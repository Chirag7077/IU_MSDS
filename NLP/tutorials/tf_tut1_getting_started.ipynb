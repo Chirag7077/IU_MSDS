{
 "cells": [
  {
   "cell_type": "markdown",
   "metadata": {},
   "source": [
    "# Turorial 1: Getting Started With TensorFlow\n",
    "\n",
    "from: https://www.tensorflow.org/get_started/get_started"
   ]
  },
  {
   "cell_type": "code",
   "execution_count": 1,
   "metadata": {
    "collapsed": true
   },
   "outputs": [],
   "source": [
    "import tensorflow as tf"
   ]
  },
  {
   "cell_type": "markdown",
   "metadata": {},
   "source": [
    "### constant nodes"
   ]
  },
  {
   "cell_type": "code",
   "execution_count": 2,
   "metadata": {},
   "outputs": [
    {
     "name": "stdout",
     "output_type": "stream",
     "text": [
      "Tensor(\"Const:0\", shape=(), dtype=float32) Tensor(\"Const_1:0\", shape=(), dtype=float32)\n"
     ]
    }
   ],
   "source": [
    "# type of node: constant\n",
    "node1 = tf.constant(3.0, dtype=tf.float32)\n",
    "node2 = tf.constant(4.0) # also tf.float32 implicitly\n",
    "print(node1, node2)"
   ]
  },
  {
   "cell_type": "code",
   "execution_count": 3,
   "metadata": {},
   "outputs": [
    {
     "name": "stdout",
     "output_type": "stream",
     "text": [
      "[3.0, 4.0]\n"
     ]
    }
   ],
   "source": [
    "# must run the graph to compute the nodes\n",
    "sess = tf.Session()\n",
    "print(sess.run([node1, node2]))"
   ]
  },
  {
   "cell_type": "code",
   "execution_count": 4,
   "metadata": {},
   "outputs": [
    {
     "name": "stdout",
     "output_type": "stream",
     "text": [
      "node3: Tensor(\"Add:0\", shape=(), dtype=float32)\n",
      "sess.run(node3): 7.0\n"
     ]
    }
   ],
   "source": [
    "# operations are also nodes (tf.add)\n",
    "from __future__ import print_function\n",
    "node3 = tf.add(node1, node2)\n",
    "print(\"node3:\", node3)\n",
    "print(\"sess.run(node3):\", sess.run(node3))"
   ]
  },
  {
   "cell_type": "markdown",
   "metadata": {},
   "source": [
    "### placeholder nodes (variables)"
   ]
  },
  {
   "cell_type": "code",
   "execution_count": 5,
   "metadata": {},
   "outputs": [
    {
     "name": "stdout",
     "output_type": "stream",
     "text": [
      "7.5\n",
      "[ 3.  7.]\n",
      "22.5\n"
     ]
    }
   ],
   "source": [
    "# place holder nodes can take input\n",
    "a = tf.placeholder(tf.float32)\n",
    "b = tf.placeholder(tf.float32)\n",
    "adder_node = a + b  # + provides a shortcut for tf.add(a, b)\n",
    "# assigning inputs and printing\n",
    "print(sess.run(adder_node, {a: 3, b: 4.5}))\n",
    "print(sess.run(adder_node, {a: [1, 3], b: [2, 4]}))\n",
    "# making it more complext\n",
    "add_and_triple = adder_node * 3.\n",
    "print(sess.run(add_and_triple, {a: 3, b: 4.5}))   # notice 2 inputs only, at the \"in nodes\" of the graph"
   ]
  },
  {
   "cell_type": "markdown",
   "metadata": {},
   "source": [
    "## Build a Model (=Build a Graph)\n",
    "\n",
    "#### This is called the *construction* phase\n",
    "\n",
    "1. Capture the model with equation containing trainable parameters <BR>\n",
    "   Use Variable nodes for trainable parameters\n",
    "2. Define loss function"
   ]
  },
  {
   "cell_type": "code",
   "execution_count": 6,
   "metadata": {},
   "outputs": [
    {
     "name": "stdout",
     "output_type": "stream",
     "text": [
      "[ 0.          0.30000001  0.60000002  0.90000004]\n"
     ]
    }
   ],
   "source": [
    "# linear model: we will train W and b\n",
    "W = tf.Variable([.3], dtype=tf.float32)        # initial value = .3\n",
    "b = tf.Variable([-.3], dtype=tf.float32)       # initial values = -.3\n",
    "x = tf.placeholder(tf.float32)\n",
    "linear_model = W*x + b\n",
    "# must initialize all variables\n",
    "init = tf.global_variables_initializer()\n",
    "sess.run(init)\n",
    "# Since x is a placeholder, we can evaluate linear_model for several values of x simultaneously as follows\n",
    "print(sess.run(linear_model, {x: [1, 2, 3, 4]}))"
   ]
  },
  {
   "cell_type": "code",
   "execution_count": 7,
   "metadata": {},
   "outputs": [
    {
     "name": "stdout",
     "output_type": "stream",
     "text": [
      "23.66\n"
     ]
    }
   ],
   "source": [
    "# a loss function will be defined in terms of variation from desired output y\n",
    "y = tf.placeholder(tf.float32)\n",
    "# we will need a loss function that we will want to minimize\n",
    "squared_deltas = tf.square(linear_model - y)    # tensor with square error values\n",
    "loss = tf.reduce_sum(squared_deltas)            # scalar with sum of square errors\n",
    "print(sess.run(loss, {x: [1, 2, 3, 4], y: [0, -1, -2, -3]}))"
   ]
  },
  {
   "cell_type": "markdown",
   "metadata": {},
   "source": [
    "## Train the model\n",
    "\n",
    "#### This is called the *execution* phase\n",
    "\n",
    "1. Choose optimizer\n",
    "2. Train to minimize loss"
   ]
  },
  {
   "cell_type": "code",
   "execution_count": 8,
   "metadata": {
    "collapsed": true
   },
   "outputs": [],
   "source": [
    "optimizer = tf.train.GradientDescentOptimizer(0.01)\n",
    "train = optimizer.minimize(loss)"
   ]
  },
  {
   "cell_type": "code",
   "execution_count": 9,
   "metadata": {},
   "outputs": [
    {
     "name": "stdout",
     "output_type": "stream",
     "text": [
      "[array([-0.9999969], dtype=float32), array([ 0.99999082], dtype=float32)]\n"
     ]
    }
   ],
   "source": [
    "sess.run(init) # reset values to incorrect defaults.\n",
    "for i in range(1000):\n",
    "  sess.run(train, {x: [1, 2, 3, 4], y: [0, -1, -2, -3]})\n",
    "\n",
    "print(sess.run([W, b]))"
   ]
  },
  {
   "cell_type": "markdown",
   "metadata": {},
   "source": [
    "# Complete Program"
   ]
  },
  {
   "cell_type": "code",
   "execution_count": 10,
   "metadata": {},
   "outputs": [
    {
     "name": "stdout",
     "output_type": "stream",
     "text": [
      "W: [-0.9999969] b: [ 0.99999082] loss: 5.69997e-11\n"
     ]
    }
   ],
   "source": [
    "import tensorflow as tf\n",
    "\n",
    "# Model parameters\n",
    "W = tf.Variable([.3], dtype=tf.float32)\n",
    "b = tf.Variable([-.3], dtype=tf.float32)\n",
    "\n",
    "# Model input and output\n",
    "x = tf.placeholder(tf.float32)\n",
    "linear_model = W*x + b\n",
    "y = tf.placeholder(tf.float32)\n",
    "\n",
    "# loss\n",
    "loss = tf.reduce_sum(tf.square(linear_model - y)) # sum of the squares\n",
    "\n",
    "# optimizer\n",
    "optimizer = tf.train.GradientDescentOptimizer(0.01)\n",
    "train = optimizer.minimize(loss)\n",
    "\n",
    "# training data\n",
    "x_train = [1, 2, 3, 4]\n",
    "y_train = [0, -1, -2, -3]\n",
    "\n",
    "# training loop\n",
    "init = tf.global_variables_initializer()\n",
    "sess = tf.Session()\n",
    "sess.run(init) # reset values to wrong\n",
    "for i in range(1000):\n",
    "  sess.run(train, {x: x_train, y: y_train})\n",
    "\n",
    "# evaluate training accuracy\n",
    "curr_W, curr_b, curr_loss = sess.run([W, b, loss], {x: x_train, y: y_train})\n",
    "print(\"W: %s b: %s loss: %s\"%(curr_W, curr_b, curr_loss))"
   ]
  },
  {
   "cell_type": "markdown",
   "metadata": {},
   "source": [
    "# tf.estimator"
   ]
  },
  {
   "cell_type": "code",
   "execution_count": 15,
   "metadata": {},
   "outputs": [
    {
     "name": "stdout",
     "output_type": "stream",
     "text": [
      "INFO:tensorflow:Using default config.\n",
      "WARNING:tensorflow:Using temporary folder as model directory: /var/folders/xr/3hcncdy943vfc7thtsyb6qfr0000gn/T/tmpexp3zgy7\n",
      "INFO:tensorflow:Using config: {'_num_ps_replicas': 0, '_is_chief': True, '_tf_random_seed': None, '_session_config': None, '_num_worker_replicas': 1, '_task_id': 0, '_keep_checkpoint_every_n_hours': 10000, '_task_type': 'worker', '_master': '', '_cluster_spec': <tensorflow.python.training.server_lib.ClusterSpec object at 0x1187ef208>, '_service': None, '_log_step_count_steps': 100, '_model_dir': '/var/folders/xr/3hcncdy943vfc7thtsyb6qfr0000gn/T/tmpexp3zgy7', '_save_checkpoints_steps': None, '_save_summary_steps': 100, '_keep_checkpoint_max': 5, '_save_checkpoints_secs': 600}\n",
      "INFO:tensorflow:Create CheckpointSaverHook.\n",
      "INFO:tensorflow:Saving checkpoints for 1 into /var/folders/xr/3hcncdy943vfc7thtsyb6qfr0000gn/T/tmpexp3zgy7/model.ckpt.\n",
      "INFO:tensorflow:loss = 18.0, step = 1\n",
      "INFO:tensorflow:global_step/sec: 1262.91\n",
      "INFO:tensorflow:loss = 0.365977, step = 101 (0.082 sec)\n",
      "INFO:tensorflow:global_step/sec: 1394.13\n",
      "INFO:tensorflow:loss = 0.0826078, step = 201 (0.072 sec)\n",
      "INFO:tensorflow:global_step/sec: 1287.4\n",
      "INFO:tensorflow:loss = 0.0198304, step = 301 (0.079 sec)\n",
      "INFO:tensorflow:global_step/sec: 1291.1\n",
      "INFO:tensorflow:loss = 0.00789217, step = 401 (0.075 sec)\n",
      "INFO:tensorflow:global_step/sec: 1321.98\n",
      "INFO:tensorflow:loss = 0.00235091, step = 501 (0.075 sec)\n",
      "INFO:tensorflow:global_step/sec: 1318.59\n",
      "INFO:tensorflow:loss = 0.000522414, step = 601 (0.076 sec)\n",
      "INFO:tensorflow:global_step/sec: 1298.84\n",
      "INFO:tensorflow:loss = 0.000104778, step = 701 (0.077 sec)\n",
      "INFO:tensorflow:global_step/sec: 1240.55\n",
      "INFO:tensorflow:loss = 2.75133e-05, step = 801 (0.081 sec)\n",
      "INFO:tensorflow:global_step/sec: 1300.73\n",
      "INFO:tensorflow:loss = 5.73819e-06, step = 901 (0.077 sec)\n",
      "INFO:tensorflow:Saving checkpoints for 1000 into /var/folders/xr/3hcncdy943vfc7thtsyb6qfr0000gn/T/tmpexp3zgy7/model.ckpt.\n",
      "INFO:tensorflow:Loss for final step: 1.80742e-06.\n",
      "INFO:tensorflow:Starting evaluation at 2018-01-18-19:37:01\n",
      "INFO:tensorflow:Restoring parameters from /var/folders/xr/3hcncdy943vfc7thtsyb6qfr0000gn/T/tmpexp3zgy7/model.ckpt-1000\n",
      "INFO:tensorflow:Finished evaluation at 2018-01-18-19:37:01\n",
      "INFO:tensorflow:Saving dict for global step 1000: average_loss = 2.96975e-07, global_step = 1000, loss = 1.1879e-06\n",
      "INFO:tensorflow:Starting evaluation at 2018-01-18-19:37:02\n",
      "INFO:tensorflow:Restoring parameters from /var/folders/xr/3hcncdy943vfc7thtsyb6qfr0000gn/T/tmpexp3zgy7/model.ckpt-1000\n",
      "INFO:tensorflow:Finished evaluation at 2018-01-18-19:37:03\n",
      "INFO:tensorflow:Saving dict for global step 1000: average_loss = 0.00257571, global_step = 1000, loss = 0.0103028\n",
      "train metrics: {'loss': 1.1878994e-06, 'average_loss': 2.9697486e-07, 'global_step': 1000}\n",
      "eval metrics: {'loss': 0.01030284, 'average_loss': 0.00257571, 'global_step': 1000}\n"
     ]
    }
   ],
   "source": [
    "# NumPy is often used to load, manipulate and preprocess data.\n",
    "import numpy as np\n",
    "import tensorflow as tf\n",
    "\n",
    "# Declare list of features. We only have one numeric feature. There are many\n",
    "# other types of columns that are more complicated and useful.\n",
    "feature_columns = [tf.feature_column.numeric_column(\"x\", shape=[1])]\n",
    "\n",
    "# An estimator is the front end to invoke training (fitting) and evaluation\n",
    "# (inference). There are many predefined types like linear regression,\n",
    "# linear classification, and many neural network classifiers and regressors.\n",
    "# The following code provides an estimator that does linear regression.\n",
    "estimator = tf.estimator.LinearRegressor(feature_columns=feature_columns)\n",
    "\n",
    "# TensorFlow provides many helper methods to read and set up data sets.\n",
    "# Here we use two data sets: one for training and one for evaluation\n",
    "# We have to tell the function how many batches\n",
    "# of data (num_epochs) we want and how big each batch should be.\n",
    "x_train = np.array([1., 2., 3., 4.])\n",
    "y_train = np.array([0., -1., -2., -3.])\n",
    "x_eval = np.array([2., 5., 8., 1.])\n",
    "y_eval = np.array([-1.01, -4.1, -7, 0.])\n",
    "input_fn = tf.estimator.inputs.numpy_input_fn(\n",
    "    {\"x\": x_train}, y_train, batch_size=4, num_epochs=None, shuffle=True)\n",
    "train_input_fn = tf.estimator.inputs.numpy_input_fn(\n",
    "    {\"x\": x_train}, y_train, batch_size=4, num_epochs=1000, shuffle=False)\n",
    "eval_input_fn = tf.estimator.inputs.numpy_input_fn(\n",
    "    {\"x\": x_eval}, y_eval, batch_size=4, num_epochs=1000, shuffle=False)\n",
    "\n",
    "# We can invoke 1000 training steps by invoking the  method and passing the\n",
    "# training data set.\n",
    "estimator.train(input_fn=input_fn, steps=1000)\n",
    "\n",
    "# Here we evaluate how well our model did.\n",
    "train_metrics = estimator.evaluate(input_fn=train_input_fn)\n",
    "eval_metrics = estimator.evaluate(input_fn=eval_input_fn)\n",
    "print(\"train metrics: %r\"% train_metrics)\n",
    "print(\"eval metrics: %r\"% eval_metrics)"
   ]
  },
  {
   "cell_type": "code",
   "execution_count": 47,
   "metadata": {},
   "outputs": [
    {
     "name": "stdout",
     "output_type": "stream",
     "text": [
      "INFO:tensorflow:Restoring parameters from /var/folders/xr/3hcncdy943vfc7thtsyb6qfr0000gn/T/tmpexp3zgy7/model.ckpt-1000\n"
     ]
    },
    {
     "data": {
      "text/plain": [
       "[{'predictions': array([-0.00085551], dtype=float32)},\n",
       " {'predictions': array([-1.00038803], dtype=float32)},\n",
       " {'predictions': array([-1.99992061], dtype=float32)},\n",
       " {'predictions': array([-2.99945307], dtype=float32)}]"
      ]
     },
     "execution_count": 47,
     "metadata": {},
     "output_type": "execute_result"
    }
   ],
   "source": [
    "# predictions \n",
    "x_pred = np.array([1., 2., 3., 4.])\n",
    "pred_input_fn = tf.estimator.inputs.numpy_input_fn(\n",
    "    {\"x\": x_pred},  \n",
    "    num_epochs=1, \n",
    "    shuffle=False)\n",
    "predictions = list(estimator.predict(input_fn=pred_input_fn))\n",
    "predictions"
   ]
  },
  {
   "cell_type": "code",
   "execution_count": null,
   "metadata": {
    "collapsed": true
   },
   "outputs": [],
   "source": []
  }
 ],
 "metadata": {
  "kernelspec": {
   "display_name": "Python 3",
   "language": "python",
   "name": "python3"
  },
  "language_info": {
   "codemirror_mode": {
    "name": "ipython",
    "version": 3
   },
   "file_extension": ".py",
   "mimetype": "text/x-python",
   "name": "python",
   "nbconvert_exporter": "python",
   "pygments_lexer": "ipython3",
   "version": "3.5.3"
  }
 },
 "nbformat": 4,
 "nbformat_minor": 2
}
